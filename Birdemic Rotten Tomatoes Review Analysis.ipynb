{
 "cells": [
  {
   "cell_type": "markdown",
   "metadata": {},
   "source": [
    "Here we explore each of the 16 reviews of 'Birdemic' on Rotten Tomatoes with a description and explore the sentiments that each of these reviews displayed."
   ]
  },
  {
   "cell_type": "markdown",
   "metadata": {},
   "source": [
    "**Step One: Prepare our data for Sentiment Analysis**"
   ]
  },
  {
   "cell_type": "code",
   "execution_count": 19,
   "metadata": {},
   "outputs": [
    {
     "name": "stdout",
     "output_type": "stream",
     "text": [
      "['It is possible that \"Birdemic: Shock and Terror\" is one of the worst films ever made ... and that is precisely why it will not be forgotten.\\n', 'A shot-on-video reworking of The Birds as a screwy commentary on the dangers of global warming, Birdemic: Shock and Terror pours every stupid horror movie clich into an abstract road movie ...\\n']\n"
     ]
    }
   ],
   "source": [
    "#extract all the \"Birdemic\" reviews from a txt file\n",
    "with open(\"Birdemic Reviews.txt\", \"r\") as bd:\n",
    "    reviews = bd.readlines()\n",
    "print(reviews[:2])"
   ]
  },
  {
   "cell_type": "markdown",
   "metadata": {},
   "source": [
    "**Step Two: Find sentiments for each review**"
   ]
  },
  {
   "cell_type": "code",
   "execution_count": 29,
   "metadata": {
    "scrolled": true
   },
   "outputs": [
    {
     "name": "stdout",
     "output_type": "stream",
     "text": [
      "Review                                   : Polarity   : Subjectivity\n",
      "It is possible that \"Birdemic: Shock and : -0.20      : 0.93\n",
      "A shot-on-video reworking of The Birds a : -0.40      : 0.50\n",
      "so dull, incompetent and ridiculous that : -0.19      : 0.57\n",
      "Birdemic appears to be completely sincer :  0.08      : 0.58\n",
      "Most people will be bored witless with t :  0.00      : 0.75\n",
      "As a movie on its own, Birdemic is a min : -0.05      : 0.72\n",
      "Birdemic defies traditional criticism. I : -0.50      : 0.88\n",
      "Birdemic, which literally has no ending, :  0.22      : 0.52\n",
      "Then there's the acting, uniformly deliv :  0.00      : 0.00\n",
      "Question: What's the difference between  :  0.00      : 0.00\n",
      "Leading lady Whitney Moore gets no point : -0.60      : 1.00\n",
      "It's a shame that Mystery Science Theate :  0.20      : 0.30\n",
      "Nguyen's DIY-fingerprints are on every f :  0.00      : 0.00\n",
      "Howlingly bad films are a dime a dozen,  :  0.13      : 0.61\n",
      "Simply foul.                             :  0.00      : 0.36\n",
      "Bird-brained thriller sets a new standar :  0.07      : 0.23\n"
     ]
    }
   ],
   "source": [
    "from textblob import TextBlob\n",
    "\n",
    "print('{:40} : {:10} : {:10}'.format(\"Review\", \"Polarity\", \"Subjectivity\"))\n",
    "#remove loose newline characters at end of txt which would be considered new lines in sentiment analysis despite being empty\n",
    "while \"\\n\" in reviews:\n",
    "    reviews.remove(\"\\n\")\n",
    "for review in reviews:\n",
    "    #find sentiment of each review\n",
    "    sentiment = TextBlob(review)\n",
    "    #print each review's sentiment. If statement made for one particular review because it is shorter than 40 characters\n",
    "    if review == \"Simply foul.\\n\":\n",
    "        print('Simply foul.                             : {: 01.2f}      : {:01.2f}'.format(sentiment.polarity, sentiment.subjectivity))        \n",
    "    else:\n",
    "        print('{:40} : {: 01.2f}      : {:01.2f}'.format(review[:40]\\\n",
    "                                               , sentiment.polarity, sentiment.subjectivity))"
   ]
  },
  {
   "cell_type": "markdown",
   "metadata": {},
   "source": [
    "**Step Three: Summarise and display sentiment findings**"
   ]
  },
  {
   "cell_type": "code",
   "execution_count": 46,
   "metadata": {},
   "outputs": [
    {
     "name": "stdout",
     "output_type": "stream",
     "text": [
      "Final counts of each sentiment: [9, 3, 4]\n",
      "\n",
      " The sentiments expressed in Birdemic's Rotten Tomatoes reviews \n",
      "---------------------------------------------------------------\n"
     ]
    },
    {
     "data": {
      "image/png": "[encoded data removed]",
      "text/plain": [
       "<Figure size 432x288 with 1 Axes>"
      ]
     },
     "metadata": {},
     "output_type": "display_data"
    }
   ],
   "source": [
    "#Separate sentiment \"polarity\" into Positive, Neutral and Negative\n",
    "labels = [\"Negative\", \"Neutral\", \"Positive\"]\n",
    "#Initialise count array to track how many of above reviews fit into each \"polarity\"\n",
    "count = [0, 0, 0]\n",
    "\n",
    "#ascertain polarity of each review\n",
    "for review in reviews:\n",
    "    sentiment = TextBlob(review)\n",
    "    #formula to obtain count array index based on numeric polarity - output of 0 indicates negative, 1 neutral and 2 positive\n",
    "    polarity = round((sentiment.polarity + 1) * 3) % 3\n",
    "    #accumulate count of relevant polarity\n",
    "    count[polarity] += 1\n",
    "    \n",
    "print(\"Final counts of each sentiment:\", count)\n",
    "import matplotlib.pyplot as plt\n",
    "#Set colors by label\n",
    "colors = [\"Green\", \"Blue\", \"Red\"]\n",
    "print(\"\\n The sentiments expressed in Birdemic's Rotten Tomatoes reviews \\n\\\n",
    "---------------------------------------------------------------\")\n",
    "#Plot a pie chart\n",
    "plt.pie(count, labels=labels, colors=colors, \\\n",
    "       autopct=\"%1.1f%%\", shadow=True, startangle=140)\n",
    "plt.axis('equal')\n",
    "plt.show()\n",
    "\n",
    "    "
   ]
  },
  {
   "cell_type": "code",
   "execution_count": null,
   "metadata": {},
   "outputs": [],
   "source": []
  }
 ],
 "metadata": {
  "kernelspec": {
   "display_name": "Python 3",
   "language": "python",
   "name": "python3"
  },
  "language_info": {
   "codemirror_mode": {
    "name": "ipython",
    "version": 3
   },
   "file_extension": ".py",
   "mimetype": "text/x-python",
   "name": "python",
   "nbconvert_exporter": "python",
   "pygments_lexer": "ipython3",
   "version": "3.7.6"
  }
 },
 "nbformat": 4,
 "nbformat_minor": 4
}
