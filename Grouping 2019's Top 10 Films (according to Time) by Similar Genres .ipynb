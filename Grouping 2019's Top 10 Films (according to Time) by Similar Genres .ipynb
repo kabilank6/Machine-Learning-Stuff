{
 "cells": [
  {
   "cell_type": "markdown",
   "metadata": {},
   "source": [
    "**Step One: Prepare our films and hashtags for clustering**"
   ]
  },
  {
   "cell_type": "code",
   "execution_count": 2,
   "metadata": {},
   "outputs": [
    {
     "name": "stdout",
     "output_type": "stream",
     "text": [
      "\n",
      "Sample genre data :\n",
      "           Film            Genre(s)\n",
      "0  Pain & Glory               Drama\n",
      "1  The Irishman  Crime, drama, epic\n",
      "\n",
      " Feature names Identified :\n",
      "\n",
      "['comedy', 'crime', 'dark', 'drama', 'epic', 'historical', 'melodrama', 'mystery', 'neo', 'noir', 'novel', 'romance', 'thriller', 'youth']\n"
     ]
    }
   ],
   "source": [
    "import pandas as pd\n",
    "\n",
    "#Set up film genres\n",
    "genre_df=pd.read_csv(\"Top 10 Ranked Films in 2019.csv\")\n",
    "print(\"\\nSample genre data :\")\n",
    "print(genre_df[:2])\n",
    "\n",
    "#Seperate film genres and titles to lists\n",
    "genre_list = genre_df[\"Genre(s)\"].tolist()\n",
    "film_list = genre_df[\"Film\"].tolist()\n",
    "\n",
    "#Do TF-IDF conversion of genres\n",
    "from sklearn.feature_extraction.text import TfidfVectorizer\n",
    "\n",
    "vectorizer = TfidfVectorizer(stop_words='english')\n",
    "genre_matrix=vectorizer.fit_transform(genre_list)\n",
    "print(\"\\n Feature names Identified :\\n\")\n",
    "print(vectorizer.get_feature_names())"
   ]
  },
  {
   "cell_type": "markdown",
   "metadata": {},
   "source": [
    "**Step Two: Try clustering TF-IDF Data**"
   ]
  },
  {
   "cell_type": "code",
   "execution_count": 4,
   "metadata": {},
   "outputs": [
    {
     "name": "stdout",
     "output_type": "stream",
     "text": [
      "\n",
      "Group :  0 \n",
      "-------------------\n",
      "Once Upon a Time In Hollywood\n",
      "Marriage Story\n",
      "Dolemite is my Name\n",
      "\n",
      "Group :  1 \n",
      "-------------------\n",
      "Pain & Glory\n",
      "The Irishman\n",
      "Little Women\n",
      "A Beautiful Day in the Neighbourhood\n",
      "\n",
      "Group :  2 \n",
      "-------------------\n",
      "Parasite\n",
      "Knives Out\n",
      "Hustlers\n"
     ]
    }
   ],
   "source": [
    "#Use KMeans clustering from scikit-learn\n",
    "from sklearn.cluster import KMeans\n",
    "\n",
    "#Split data into 3 clusters\n",
    "kmeans = KMeans(n_clusters=3).fit(genre_matrix)\n",
    "\n",
    "#get Cluster labels.\n",
    "clusters=kmeans.labels_\n",
    "\n",
    "#Print cluster label and film titles under each cluster\n",
    "for group in set(clusters):\n",
    "    print(\"\\nGroup : \",group, \"\\n-------------------\")\n",
    "    \n",
    "    for i in genre_df.index:\n",
    "        if ( clusters[i] == group):\n",
    "            print(film_list[i])\n",
    "    "
   ]
  },
  {
   "cell_type": "markdown",
   "metadata": {},
   "source": [
    "**Step Three: Figure out optimal cluster size**"
   ]
  },
  {
   "cell_type": "code",
   "execution_count": 8,
   "metadata": {},
   "outputs": [
    {
     "name": "stdout",
     "output_type": "stream",
     "text": [
      "Sum of squared distances :  [5.609511064002626, 4.09151506426247, 3.08770600400559, 2.1438880544265064, 1.2400517814070926, 0.7180307626531105, 0.24973663686868486, 0.0]\n"
     ]
    },
    {
     "data": {
      "image/png": "[encoded data removed]",
      "text/plain": [
       "<Figure size 432x288 with 1 Axes>"
      ]
     },
     "metadata": {
      "needs_background": "light"
     },
     "output_type": "display_data"
    }
   ],
   "source": [
    "#Find optimal cluster size by finding sum-of-squared-distances\n",
    "\n",
    "sosd = []\n",
    "#Run clustering for sizes 1 to 9 and capture inertia\n",
    "K = range(1,9)\n",
    "for k in K:\n",
    "    km = KMeans(n_clusters=k)\n",
    "    km = km.fit(genre_matrix)\n",
    "    sosd.append(km.inertia_)\n",
    "    \n",
    "print(\"Sum of squared distances : \" ,sosd)\n",
    "\n",
    "#Plot sosd against number of clusters\n",
    "import matplotlib.pyplot as mpLib\n",
    "mpLib.plot(K, sosd, 'bx-')\n",
    "mpLib.xlabel('Cluster count')\n",
    "mpLib.ylabel('Sum_of_squared_distances')\n",
    "mpLib.title('Elbow Method For Optimal Cluster Size')\n",
    "mpLib.show()\n"
   ]
  },
  {
   "cell_type": "markdown",
   "metadata": {},
   "source": [
    "From the graph above, it appears that its 'elbow' is most evident at a cluster count of 2, or 5 (it is difficult to tell here). An inspection of the feature names in Step One tells us that there is over two clear distinct genres in these ten films (e.g. comedy, drama and crime) so 2 clusters is likely to not suffice. Hence we'll conclude that 5 is the optimal cluster count for the next step."
   ]
  },
  {
   "cell_type": "markdown",
   "metadata": {},
   "source": [
    "**Step Four: Adjust clusters to meet theoretical optimal count of 5**"
   ]
  },
  {
   "cell_type": "code",
   "execution_count": 9,
   "metadata": {},
   "outputs": [
    {
     "name": "stdout",
     "output_type": "stream",
     "text": [
      "\n",
      "Group :  0 \n",
      "-------------------\n",
      "Little Women\n",
      "\n",
      "Group :  1 \n",
      "-------------------\n",
      "Once Upon a Time In Hollywood\n",
      "Marriage Story\n",
      "Dolemite is my Name\n",
      "\n",
      "Group :  2 \n",
      "-------------------\n",
      "The Irishman\n",
      "\n",
      "Group :  3 \n",
      "-------------------\n",
      "Pain & Glory\n",
      "A Beautiful Day in the Neighbourhood\n",
      "\n",
      "Group :  4 \n",
      "-------------------\n",
      "Parasite\n",
      "Knives Out\n",
      "Hustlers\n"
     ]
    }
   ],
   "source": [
    "#Split data into 5 clusters\n",
    "kmeans = KMeans(n_clusters=5).fit(genre_matrix)\n",
    "\n",
    "#get Cluster labels.\n",
    "clusters=kmeans.labels_\n",
    "\n",
    "#Print cluster label and film titles under each cluster\n",
    "for group in set(clusters):\n",
    "    print(\"\\nGroup : \",group, \"\\n-------------------\")\n",
    "    \n",
    "    for i in genre_df.index:\n",
    "        if ( clusters[i] == group):\n",
    "            print(film_list[i])"
   ]
  },
  {
   "cell_type": "markdown",
   "metadata": {},
   "source": [
    "If we were to hypothesise what happened above, Parasite and Knives Out are in the same group because they share nearly all the same genres; which is significant for at least 5 genres. Hustlers also shares a lot with them. Once Upon a Time In Hollywood follows a similar trend with Marriage Story and Dolemite is my Name, however with only 2 or 3 genres. Likewise for Group 3, albeit each are 'only' a drama. The Irishman and Little Women are each separate, perhaps because each have a unique genre (epic and each of melodrama, historical drama and youth novel respectively). Overall though, k means clustering splits the films up decently when k = 5. "
   ]
  }
 ],
 "metadata": {
  "kernelspec": {
   "display_name": "Python 3",
   "language": "python",
   "name": "python3"
  },
  "language_info": {
   "codemirror_mode": {
    "name": "ipython",
    "version": 3
   },
   "file_extension": ".py",
   "mimetype": "text/x-python",
   "name": "python",
   "nbconvert_exporter": "python",
   "pygments_lexer": "ipython3",
   "version": "3.7.6"
  }
 },
 "nbformat": 4,
 "nbformat_minor": 4
}
